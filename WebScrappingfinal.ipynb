{
 "cells": [
  {
   "cell_type": "code",
   "execution_count": null,
   "id": "81451322",
   "metadata": {},
   "outputs": [],
   "source": [
    "\n",
    "\n",
    "\n",
    "\n",
    "\n",
    "\n"
   ]
  },
  {
   "cell_type": "code",
   "execution_count": null,
   "id": "8809b5bc",
   "metadata": {},
   "outputs": [],
   "source": []
  },
  {
   "cell_type": "code",
   "execution_count": null,
   "id": "b006cb73",
   "metadata": {},
   "outputs": [],
   "source": [
    "import requests\n",
    "import bs4 as bs\n",
    "from tqdm import tqdm\n",
    "import pandas as pd\n"
   ]
  },
  {
   "cell_type": "code",
   "execution_count": null,
   "id": "8252db50",
   "metadata": {},
   "outputs": [],
   "source": [
    "url = 'https://es.wikipedia.org/wiki/Anexo:Tabla_estad%C3%ADstica_de_la_Copa_Mundial_de_F%C3%BAtbol'\n",
    "resp = requests.get(url)\n",
    "resp = resp.text\n",
    "soup = bs.BeautifulSoup(resp, 'lxml')\n",
    "\n",
    "table = soup.find('table',{'class': 'sortable'})\n",
    "\n",
    "table"
   ]
  },
  {
   "cell_type": "code",
   "execution_count": null,
   "id": "d29e1cfd",
   "metadata": {},
   "outputs": [],
   "source": [
    "seleccion = []\n",
    "torn_jug = []\n",
    "titulo = []\n",
    "puntos = []\n",
    "part_jug = []\n",
    "part_gan = []\n",
    "part_emp = []\n",
    "part_per = []\n",
    "gol_fav = []\n",
    "gol_con = []\n",
    "\n",
    "\n",
    "for row in tqdm(table.findAll('tr')[1:]):\n",
    "    selec = row.findAll('a')[1].text\n",
    "    tornjug = row.findAll('td')[2].text\n",
    "    titu = row.findAll('td')[11].text\n",
    "    punto = row.findAll('td')[3].text\n",
    "    partjug = row.findAll('td')[4].text\n",
    "    partgan = row.findAll('td')[5].text\n",
    "    partemp = row.findAll('td')[6].text\n",
    "    partper = row.findAll('td')[7].text\n",
    "    golfav = row.findAll('td')[8].text\n",
    "    golcont = row.findAll('td')[9].text\n",
    "    \n",
    "    \n",
    "    seleccion.append(selec)\n",
    "    torn_jug.append(tornjug)\n",
    "    titulo.append(titu)\n",
    "    puntos.append(punto)\n",
    "    part_jug.append(partjug)\n",
    "    part_gan.append(partgan)\n",
    "    part_emp.append(partemp)\n",
    "    part_per.append(partper)\n",
    "    gol_fav.append(golfav)\n",
    "    gol_con.append(golcont)\n",
    "    \n",
    "    \n",
    "\n",
    "    \n"
   ]
  },
  {
   "cell_type": "code",
   "execution_count": null,
   "id": "ca732772",
   "metadata": {},
   "outputs": [],
   "source": [
    "df = pd.DataFrame(list(zip(seleccion, torn_jug, titulo, puntos, part_jug, part_gan, part_emp, part_per, gol_fav, gol_con)),\n",
    "                 columns = ['Equipo', 'Torneos Jugados', 'Titulos', 'Puntos', 'Partidos Jugados', 'Partidos Ganados',\n",
    "                           'Partidos Empatados', 'Partidos Perdidos', 'Goles a favor', ' Goles en contra'])\n",
    "df = df.reset_index(drop=True)\n",
    "df.tail()"
   ]
  },
  {
   "cell_type": "code",
   "execution_count": null,
   "id": "6a924046",
   "metadata": {},
   "outputs": [],
   "source": [
    "def clean_column(x):\n",
    "    return x.replace('-', '0')\n",
    "\n",
    "df['Titulos'] = df['Titulos'].apply(lambda x: clean_column(x))"
   ]
  },
  {
   "cell_type": "code",
   "execution_count": null,
   "id": "26fff45d",
   "metadata": {},
   "outputs": [],
   "source": [
    "df.head(10)"
   ]
  },
  {
   "cell_type": "code",
   "execution_count": null,
   "id": "11e59aee",
   "metadata": {},
   "outputs": [],
   "source": [
    "df.to_csv('clasificacion_mundial_2022.csv', index=False)"
   ]
  },
  {
   "cell_type": "code",
   "execution_count": null,
   "id": "987b5e72",
   "metadata": {},
   "outputs": [],
   "source": []
  }
 ],
 "metadata": {
  "kernelspec": {
   "display_name": "Python 3 (ipykernel)",
   "language": "python",
   "name": "python3"
  },
  "language_info": {
   "codemirror_mode": {
    "name": "ipython",
    "version": 3
   },
   "file_extension": ".py",
   "mimetype": "text/x-python",
   "name": "python",
   "nbconvert_exporter": "python",
   "pygments_lexer": "ipython3",
   "version": "3.8.16"
  }
 },
 "nbformat": 4,
 "nbformat_minor": 5
}
